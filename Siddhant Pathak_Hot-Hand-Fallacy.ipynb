{
 "cells": [
  {
   "cell_type": "markdown",
   "metadata": {},
   "source": [
    "## TIME SERIES MODEL (USING AUTO-ARIMA)\n",
    "\n",
    "Here we will make use of the time series model, with the help of AUTO ARIMA, to analyse the given data and make predictions for the number of goals scored in the upcoming seasons by the famous Spanish Club **\"FC BARCELONA\"**. This model can be trained for any other club as well, depending upon the availability of the statistics.\n",
    "\n",
    "This is meant for the submission of the **CITADEL APAC DATATHON: THE DATA OPEN 2021** organized by Citadel and Citadel Securities.\n",
    "\n",
    "> _Made by_: Pathak Siddhant, Y1 CSC undegraduate student from NTU"
   ]
  },
  {
   "cell_type": "markdown",
   "metadata": {},
   "source": [
    "--------------\n",
    "### Essential Libraries\n",
    "\n",
    "We will begin by importing the essential Python Libraries.\n",
    "\n",
    "> NumPy : Library for Numeric Computations in Python    \n",
    "> Matplotlib : Primarily for visualization  \n",
    "> Pandas : Library for Data Acquisition and Preparation        \n",
    "> StatsModels : Mainly for computation of time series variables   \n",
    "> PyramidARIMA : For creation of the AUTO-ARIMA model by auto-tuning the hyperparameters to optimize AIC."
   ]
  },
  {
   "cell_type": "code",
   "execution_count": 1,
   "metadata": {},
   "outputs": [],
   "source": [
    "import pandas as pd\n",
    "import numpy as np\n",
    "import matplotlib.pyplot as plt\n",
    "%matplotlib inline\n",
    "\n",
    "from statsmodels.tsa.seasonal import seasonal_decompose\n",
    "from statsmodels.tsa.stattools import adfuller\n",
    "#from statsmodels.tsa.stattools import acf, pacf\n",
    "#from statsmodels.graphics.tsaplots import plot_acf, plot_pacf\n",
    "#from statsmodels.tsa.arima_model import ARIMA\n",
    "#import statsmodels.api as sm\n",
    "\n",
    "import pmdarima as pm"
   ]
  },
  {
   "cell_type": "markdown",
   "metadata": {},
   "source": [
    "---------------------------\n",
    "\n",
    "### Import the Dataset\n",
    "\n",
    "The datasets are in CSV format; hence we use the `read_csv` function from Pandas.  "
   ]
  },
  {
   "cell_type": "code",
   "execution_count": 2,
   "metadata": {},
   "outputs": [],
   "source": [
    "match = pd.read_csv('match.csv')\n",
    "team = pd.read_csv('team.csv', encoding = \"ISO-8859-1\")\n",
    "country = pd.read_csv('country.csv')\n",
    "league = pd.read_csv('league.csv')\n",
    "team_attributes = pd.read_csv('team_attributes.csv')\n",
    "player = pd.read_csv('player.csv')\n",
    "player_attributes = pd.read_csv('player_attributes.csv')"
   ]
  },
  {
   "cell_type": "markdown",
   "metadata": {},
   "source": [
    "For more values, especially pertaining to years before '2008', we have procured an additional dataset named \"FMEL Dataset.csv\". This dataset contains information of the famous Spanish clubs from 1970-2017/18. We will be using the data from 1970-2007/08 for our research and development of Time Series Model. \n",
    "\n",
    "It was acquired from Kaggle and the link to the same is as follows: https://www.kaggle.com/ricardomoya/football-matches-of-spanish-league"
   ]
  },
  {
   "cell_type": "code",
   "execution_count": 3,
   "metadata": {},
   "outputs": [],
   "source": [
    "la_liga=pd.read_csv('FMEL_Dataset.csv')"
   ]
  },
  {
   "cell_type": "markdown",
   "metadata": {},
   "source": [
    "------------------\n",
    "\n",
    "### Data Acquisition and Cleaning\n",
    "The provided datasets (along with the additional ones) are acquired and cleaned pertaining to the needs of the exercise. The unnecessary columns have been dropped and the useful columns are combined to a cleaner and simpler Pandas DataFrame"
   ]
  },
  {
   "cell_type": "code",
   "execution_count": 4,
   "metadata": {},
   "outputs": [],
   "source": [
    "match_clean = match.drop(columns =['B365H','B365D', 'B365A','BWH', 'BWD', 'BWA', 'BWA','IWH', 'IWD', 'IWA', 'LBH', 'LBD', 'LBA', 'PSH', 'PSD', 'PSA','WHD','WHA','WHH','SJH','SJD','SJA', 'VCH', 'VCD','VCA','GBH', 'GBD', 'GBA','BSH', 'BSD','BSA','away_player_1','away_player_2','away_player_3','away_player_4','away_player_5','away_player_6','away_player_7','away_player_8','away_player_9','away_player_10','away_player_11','home_player_1','home_player_2','home_player_3','home_player_4','home_player_5','home_player_6','home_player_7','home_player_8','home_player_9','home_player_10','home_player_11'])"
   ]
  },
  {
   "cell_type": "markdown",
   "metadata": {},
   "source": [
    "From the additional FMEL_Dataset.csv and match.csv, we have divided them into seperate seasons for better clarity with respect to each season. \n",
    "\n",
    "For better clarity and tidiness, we have divided the massive code into small segments, per decade for better readability from the reader's point of view."
   ]
  },
  {
   "cell_type": "code",
   "execution_count": 5,
   "metadata": {},
   "outputs": [],
   "source": [
    "#from extra dataset(additional)\n",
    "\n",
    "#1970-80\n",
    "list_70_71= la_liga.loc[la_liga['season'] == '1970-71']\n",
    "list_71_72= la_liga.loc[la_liga['season'] == '1971-72']\n",
    "list_72_73= la_liga.loc[la_liga['season'] == '1972-73']\n",
    "list_73_74= la_liga.loc[la_liga['season'] == '1973-74']\n",
    "list_74_75= la_liga.loc[la_liga['season'] == '1974-75']\n",
    "list_75_76= la_liga.loc[la_liga['season'] == '1975-76']\n",
    "list_76_77= la_liga.loc[la_liga['season'] == '1976-77']\n",
    "list_77_78= la_liga.loc[la_liga['season'] == '1977-78']\n",
    "list_78_79= la_liga.loc[la_liga['season'] == '1978-79']\n",
    "list_79_80= la_liga.loc[la_liga['season'] == '1979-80']"
   ]
  },
  {
   "cell_type": "code",
   "execution_count": 6,
   "metadata": {},
   "outputs": [],
   "source": [
    "#1980-90\n",
    "list_80_81= la_liga.loc[la_liga['season'] == '1980-81']\n",
    "list_81_82= la_liga.loc[la_liga['season'] == '1981-82']\n",
    "list_82_83= la_liga.loc[la_liga['season'] == '1982-83']\n",
    "list_83_84= la_liga.loc[la_liga['season'] == '1983-84']\n",
    "list_84_85= la_liga.loc[la_liga['season'] == '1984-85']\n",
    "list_85_86= la_liga.loc[la_liga['season'] == '1985-86']\n",
    "list_86_87= la_liga.loc[la_liga['season'] == '1986-87']\n",
    "list_87_88= la_liga.loc[la_liga['season'] == '1987-88']\n",
    "list_88_89= la_liga.loc[la_liga['season'] == '1988-89']\n",
    "list_89_90= la_liga.loc[la_liga['season'] == '1989-90']"
   ]
  },
  {
   "cell_type": "code",
   "execution_count": 7,
   "metadata": {},
   "outputs": [],
   "source": [
    "#1990-00\n",
    "list_90_91= la_liga.loc[la_liga['season'] == '1990-91']\n",
    "list_91_92= la_liga.loc[la_liga['season'] == '1991-92']\n",
    "list_92_93= la_liga.loc[la_liga['season'] == '1992-93']\n",
    "list_93_94= la_liga.loc[la_liga['season'] == '1993-94']\n",
    "list_94_95= la_liga.loc[la_liga['season'] == '1994-95']\n",
    "list_95_96= la_liga.loc[la_liga['season'] == '1995-96']\n",
    "list_96_97= la_liga.loc[la_liga['season'] == '1996-97']\n",
    "list_97_98= la_liga.loc[la_liga['season'] == '1997-98']\n",
    "list_98_99= la_liga.loc[la_liga['season'] == '1998-99']\n",
    "list_99_00= la_liga.loc[la_liga['season'] == '1999-00']"
   ]
  },
  {
   "cell_type": "code",
   "execution_count": 8,
   "metadata": {},
   "outputs": [],
   "source": [
    "#2000-07\n",
    "list_00_01= la_liga.loc[la_liga['season'] == '2000-01']\n",
    "list_01_02= la_liga.loc[la_liga['season'] == '2001-02']\n",
    "list_02_03= la_liga.loc[la_liga['season'] == '2002-03']\n",
    "list_03_04= la_liga.loc[la_liga['season'] == '2003-04']\n",
    "list_04_05= la_liga.loc[la_liga['season'] == '2004-05']\n",
    "list_05_06= la_liga.loc[la_liga['season'] == '2005-06']\n",
    "list_06_07= la_liga.loc[la_liga['season'] == '2006-07']\n",
    "list_07_08= la_liga.loc[la_liga['season'] == '2007-08']"
   ]
  },
  {
   "cell_type": "code",
   "execution_count": 9,
   "metadata": {},
   "outputs": [],
   "source": [
    "#from given dataset\n",
    "\n",
    "#2008-15\n",
    "list_08_09= match_clean.loc[match_clean['season'] == '2008/2009']\n",
    "list_09_10= match_clean.loc[match_clean['season'] == '2009/2010']\n",
    "list_10_11= match_clean.loc[match_clean['season'] == '2010/2011']\n",
    "list_11_12= match_clean.loc[match_clean['season'] == '2011/2012']\n",
    "list_12_13= match_clean.loc[match_clean['season'] == '2012/2013']\n",
    "list_13_14= match_clean.loc[match_clean['season'] == '2013/2014']\n",
    "list_14_15= match_clean.loc[match_clean['season'] == '2014/2015']\n",
    "list_15_16= match_clean.loc[match_clean['season'] == '2015/2016']"
   ]
  },
  {
   "cell_type": "markdown",
   "metadata": {},
   "source": [
    "Primarily, this model will work upon the number of goals scored by the famous Spanish club **FC Barcelona** in the previous years and with that knowledge, predict the number of goals in the upcoming years with the help of the renowned ARIMA(Auto Regressive Integrated Moving Average) Model.\n",
    "\n",
    "So, we retrieve the records of the club in discussion (FC Barcelona) from 'team.csv' to find its corresponding team_id."
   ]
  },
  {
   "cell_type": "code",
   "execution_count": 10,
   "metadata": {},
   "outputs": [
    {
     "name": "stdout",
     "output_type": "stream",
     "text": [
      "     team_id team_long_name team_short_name\n",
      "258     8634   FC Barcelona             BAR\n"
     ]
    }
   ],
   "source": [
    "i=team[team['team_long_name']==('FC Barcelona')]\n",
    "print(i)"
   ]
  },
  {
   "cell_type": "markdown",
   "metadata": {},
   "source": [
    "Therefore, the team_id for FC Barcelona is \"8634\". We have to look for matches consisting of this home_team_id/away_team_id in our match.csv dataframe.\n",
    "The additional dataset contains the same data with the names of the team, so there we have to look for localTeam/visitorTeam only."
   ]
  },
  {
   "cell_type": "markdown",
   "metadata": {},
   "source": [
    "From the additional FMEL_Dataset.csv and match.csv, we have divided them into seperate seasons for better clarity with respect to each season. \n",
    "\n",
    "For better clarity and tidiness, we have divided the massive code into small segments, per decade for better readability from the reader's point of view."
   ]
  },
  {
   "cell_type": "code",
   "execution_count": 11,
   "metadata": {},
   "outputs": [],
   "source": [
    "#from additional dataset\n",
    "barca_70_71_home=list_70_71.query('localTeam==\"Barcelona\"')\n",
    "barca_70_71_away=list_70_71.query('visitorTeam==\"Barcelona\"')  \n",
    "                                                      \n",
    "barca_71_72_home=list_71_72.query('localTeam==\"Barcelona\"')\n",
    "barca_71_72_away=list_71_72.query('visitorTeam==\"Barcelona\"')\n",
    "barca_72_73_home=list_72_73.query('localTeam==\"Barcelona\"')\n",
    "barca_72_73_away=list_72_73.query('visitorTeam==\"Barcelona\"')  \n",
    "                                                      \n",
    "barca_73_74_home=list_73_74.query('localTeam==\"Barcelona\"')\n",
    "barca_73_74_away=list_73_74.query('visitorTeam==\"Barcelona\"')  \n",
    "                                                   \n",
    "barca_74_75_home=list_74_75.query('localTeam==\"Barcelona\"')\n",
    "barca_74_75_away=list_74_75.query('visitorTeam==\"Barcelona\"')\n",
    "\n",
    "barca_75_76_home=list_75_76.query('localTeam==\"Barcelona\"')\n",
    "barca_75_76_away=list_75_76.query('visitorTeam==\"Barcelona\"')\n",
    "\n",
    "barca_76_77_home=list_76_77.query('localTeam==\"Barcelona\"')\n",
    "barca_76_77_away=list_76_77.query('visitorTeam==\"Barcelona\"')\n",
    "\n",
    "barca_77_78_home=list_77_78.query('localTeam==\"Barcelona\"')\n",
    "barca_77_78_away=list_77_78.query('visitorTeam==\"Barcelona\"')\n",
    "\n",
    "barca_78_79_home=list_78_79.query('localTeam==\"Barcelona\"')\n",
    "barca_78_79_away=list_78_79.query('visitorTeam==\"Barcelona\"')\n",
    "\n",
    "barca_79_80_home=list_79_80.query('localTeam==\"Barcelona\"')\n",
    "barca_79_80_away=list_79_80.query('visitorTeam==\"Barcelona\"')  "
   ]
  },
  {
   "cell_type": "code",
   "execution_count": 12,
   "metadata": {},
   "outputs": [],
   "source": [
    "barca_80_81_home=list_80_81.query('localTeam==\"Barcelona\"')\n",
    "barca_80_81_away=list_80_81.query('visitorTeam==\"Barcelona\"')  \n",
    "                                                      \n",
    "barca_81_82_home=list_81_82.query('localTeam==\"Barcelona\"')\n",
    "barca_81_82_away=list_81_82.query('visitorTeam==\"Barcelona\"') \n",
    "\n",
    "barca_82_83_home=list_82_83.query('localTeam==\"Barcelona\"')\n",
    "barca_82_83_away=list_82_83.query('visitorTeam==\"Barcelona\"')  \n",
    "                                                      \n",
    "barca_83_84_home=list_83_84.query('localTeam==\"Barcelona\"')\n",
    "barca_83_84_away=list_83_84.query('visitorTeam==\"Barcelona\"')  \n",
    "                                                   \n",
    "barca_84_85_home=list_84_85.query('localTeam==\"Barcelona\"')\n",
    "barca_84_85_away=list_84_85.query('visitorTeam==\"Barcelona\"')\n",
    "\n",
    "barca_85_86_home=list_85_86.query('localTeam==\"Barcelona\"')\n",
    "barca_85_86_away=list_85_86.query('visitorTeam==\"Barcelona\"')\n",
    "\n",
    "barca_86_87_home=list_86_87.query('localTeam==\"Barcelona\"')\n",
    "barca_86_87_away=list_86_87.query('visitorTeam==\"Barcelona\"')\n",
    "\n",
    "barca_87_88_home=list_87_88.query('localTeam==\"Barcelona\"')\n",
    "barca_87_88_away=list_87_88.query('visitorTeam==\"Barcelona\"')\n",
    "\n",
    "barca_88_89_home=list_88_89.query('localTeam==\"Barcelona\"')\n",
    "barca_88_89_away=list_88_89.query('visitorTeam==\"Barcelona\"')\n",
    "\n",
    "barca_89_90_home=list_89_90.query('localTeam==\"Barcelona\"')\n",
    "barca_89_90_away=list_89_90.query('visitorTeam==\"Barcelona\"')"
   ]
  },
  {
   "cell_type": "code",
   "execution_count": 13,
   "metadata": {},
   "outputs": [],
   "source": [
    "barca_90_91_home=list_90_91.query('localTeam==\"Barcelona\"')\n",
    "barca_90_91_away=list_90_91.query('visitorTeam==\"Barcelona\"')\n",
    "\n",
    "barca_91_92_home=list_91_92.query('localTeam==\"Barcelona\"')\n",
    "barca_91_92_away=list_91_92.query('visitorTeam==\"Barcelona\"')\n",
    "\n",
    "barca_92_93_home=list_92_93.query('localTeam==\"Barcelona\"')\n",
    "barca_92_93_away=list_92_93.query('visitorTeam==\"Barcelona\"')\n",
    "\n",
    "barca_93_94_home=list_93_94.query('localTeam==\"Barcelona\"')\n",
    "barca_93_94_away=list_93_94.query('visitorTeam==\"Barcelona\"')\n",
    "\n",
    "barca_94_95_home=list_94_95.query('localTeam==\"Barcelona\"')\n",
    "barca_94_95_away=list_94_95.query('visitorTeam==\"Barcelona\"')\n",
    "\n",
    "barca_95_96_home=list_96_97.query('localTeam==\"Barcelona\"')\n",
    "barca_95_96_away=list_96_97.query('visitorTeam==\"Barcelona\"')\n",
    "\n",
    "barca_96_97_home=list_97_98.query('localTeam==\"Barcelona\"')\n",
    "barca_96_97_away=list_97_98.query('visitorTeam==\"Barcelona\"')\n",
    "\n",
    "barca_97_98_home=list_97_98.query('localTeam==\"Barcelona\"')\n",
    "barca_97_98_away=list_97_98.query('visitorTeam==\"Barcelona\"')\n",
    "\n",
    "barca_98_99_home=list_98_99.query('localTeam==\"Barcelona\"')\n",
    "barca_98_99_away=list_98_99.query('visitorTeam==\"Barcelona\"')\n",
    "\n",
    "barca_99_00_home=list_99_00.query('localTeam==\"Barcelona\"')\n",
    "barca_99_00_away=list_99_00.query('visitorTeam==\"Barcelona\"')"
   ]
  },
  {
   "cell_type": "code",
   "execution_count": 14,
   "metadata": {},
   "outputs": [],
   "source": [
    "barca_00_01_home=list_00_01.query('localTeam==\"Barcelona\"')\n",
    "barca_00_01_away=list_00_01.query('visitorTeam==\"Barcelona\"')\n",
    "\n",
    "barca_01_02_home=list_01_02.query('localTeam==\"Barcelona\"')\n",
    "barca_01_02_away=list_01_02.query('visitorTeam==\"Barcelona\"')\n",
    "\n",
    "barca_02_03_home=list_02_03.query('localTeam==\"Barcelona\"')\n",
    "barca_02_03_away=list_02_03.query('visitorTeam==\"Barcelona\"')\n",
    "\n",
    "barca_03_04_home=list_03_04.query('localTeam==\"Barcelona\"')\n",
    "barca_03_04_away=list_03_04.query('visitorTeam==\"Barcelona\"')\n",
    "\n",
    "barca_04_05_home=list_04_05.query('localTeam==\"Barcelona\"')\n",
    "barca_04_05_away=list_04_05.query('visitorTeam==\"Barcelona\"')\n",
    "\n",
    "barca_05_06_home=list_05_06.query('localTeam==\"Barcelona\"')\n",
    "barca_05_06_away=list_05_06.query('visitorTeam==\"Barcelona\"')\n",
    "\n",
    "barca_06_07_home=list_06_07.query('localTeam==\"Barcelona\"')\n",
    "barca_06_07_away=list_06_07.query('visitorTeam==\"Barcelona\"')\n",
    "\n",
    "barca_07_08_home=list_07_08.query('localTeam==\"Barcelona\"')\n",
    "barca_07_08_away=list_07_08.query('visitorTeam==\"Barcelona\"')"
   ]
  },
  {
   "cell_type": "code",
   "execution_count": 15,
   "metadata": {},
   "outputs": [],
   "source": [
    "#from given dataset\n",
    "barca_08_09_home=list_08_09.query('home_team_id==\"8634\"')\n",
    "barca_08_09_away=list_08_09.query('away_team_id==\"8634\"')\n",
    "\n",
    "barca_09_10_home=list_09_10.query('home_team_id==\"8634\"')\n",
    "barca_09_10_away=list_09_10.query('away_team_id==\"8634\"')\n",
    "\n",
    "barca_10_11_home=list_10_11.query('home_team_id==\"8634\"')\n",
    "barca_10_11_away=list_10_11.query('away_team_id==\"8634\"')\n",
    "\n",
    "barca_11_12_home=list_11_12.query('home_team_id==\"8634\"')\n",
    "barca_11_12_away=list_11_12.query('away_team_id==\"8634\"')\n",
    "\n",
    "barca_12_13_home=list_12_13.query('home_team_id==\"8634\"')\n",
    "barca_12_13_away=list_12_13.query('away_team_id==\"8634\"')\n",
    "\n",
    "barca_13_14_home=list_13_14.query('home_team_id==\"8634\"')\n",
    "barca_13_14_away=list_13_14.query('away_team_id==\"8634\"')\n",
    "\n",
    "barca_14_15_home=list_14_15.query('home_team_id==\"8634\"')\n",
    "barca_14_15_away=list_14_15.query('away_team_id==\"8634\"')\n",
    "\n",
    "barca_15_16_home=list_15_16.query('home_team_id==\"8634\"')\n",
    "barca_15_16_away=list_15_16.query('away_team_id==\"8634\"')"
   ]
  },
  {
   "cell_type": "markdown",
   "metadata": {},
   "source": [
    "Now, we finally create a Pandas DataFrame which will consist of number of goals scored by the club in each season."
   ]
  },
  {
   "cell_type": "markdown",
   "metadata": {},
   "source": [
    "From the additional FMEL_Dataset.csv and match.csv, we have divided them into seperate seasons for better clarity with respect to each season. \n",
    "\n",
    "For better clarity and tidiness, we have divided the massive code into small segments, per decade for better readability from the reader's point of view."
   ]
  },
  {
   "cell_type": "code",
   "execution_count": 16,
   "metadata": {},
   "outputs": [],
   "source": [
    "timeseries=pd.DataFrame({\"season\":['1970'], \"goals scored\":[barca_70_71_home.localGoals.sum()+barca_70_71_away.visitorGoals.sum()]})"
   ]
  },
  {
   "cell_type": "code",
   "execution_count": 17,
   "metadata": {},
   "outputs": [],
   "source": [
    "#1971-1979\n",
    "timeseries=timeseries.append({\"season\":'1971', \"goals scored\":barca_71_72_home.localGoals.sum()+barca_71_72_away.visitorGoals.sum()},ignore_index=True)\n",
    "timeseries=timeseries.append({\"season\":'1972', \"goals scored\":barca_72_73_home.localGoals.sum()+barca_72_73_away.visitorGoals.sum()},ignore_index=True)\n",
    "timeseries=timeseries.append({\"season\":'1973', \"goals scored\":barca_73_74_home.localGoals.sum()+barca_73_74_away.visitorGoals.sum()},ignore_index=True)\n",
    "timeseries=timeseries.append({\"season\":'1974', \"goals scored\":barca_74_75_home.localGoals.sum()+barca_74_75_away.visitorGoals.sum()},ignore_index=True)\n",
    "timeseries=timeseries.append({\"season\":'1975', \"goals scored\":barca_75_76_home.localGoals.sum()+barca_75_76_away.visitorGoals.sum()},ignore_index=True)\n",
    "timeseries=timeseries.append({\"season\":'1976', \"goals scored\":barca_76_77_home.localGoals.sum()+barca_76_77_away.visitorGoals.sum()},ignore_index=True)\n",
    "timeseries=timeseries.append({\"season\":'1977', \"goals scored\":barca_77_78_home.localGoals.sum()+barca_77_78_away.visitorGoals.sum()},ignore_index=True)\n",
    "timeseries=timeseries.append({\"season\":'1978', \"goals scored\":barca_78_79_home.localGoals.sum()+barca_78_79_away.visitorGoals.sum()},ignore_index=True)\n",
    "timeseries=timeseries.append({\"season\":'1979', \"goals scored\":barca_79_80_home.localGoals.sum()+barca_79_80_away.visitorGoals.sum()},ignore_index=True)"
   ]
  },
  {
   "cell_type": "code",
   "execution_count": 18,
   "metadata": {},
   "outputs": [],
   "source": [
    "#1980-1989\n",
    "timeseries=timeseries.append({\"season\":'1980', \"goals scored\":barca_80_81_home.localGoals.sum()+barca_80_81_away.visitorGoals.sum()},ignore_index=True)\n",
    "timeseries=timeseries.append({\"season\":'1981', \"goals scored\":barca_81_82_home.localGoals.sum()+barca_81_82_away.visitorGoals.sum()},ignore_index=True)\n",
    "timeseries=timeseries.append({\"season\":'1982', \"goals scored\":barca_82_83_home.localGoals.sum()+barca_82_83_away.visitorGoals.sum()},ignore_index=True)\n",
    "timeseries=timeseries.append({\"season\":'1983', \"goals scored\":barca_83_84_home.localGoals.sum()+barca_83_84_away.visitorGoals.sum()},ignore_index=True)\n",
    "timeseries=timeseries.append({\"season\":'1984', \"goals scored\":barca_84_85_home.localGoals.sum()+barca_84_85_away.visitorGoals.sum()},ignore_index=True)\n",
    "timeseries=timeseries.append({\"season\":'1985', \"goals scored\":barca_85_86_home.localGoals.sum()+barca_85_86_away.visitorGoals.sum()},ignore_index=True)\n",
    "timeseries=timeseries.append({\"season\":'1986', \"goals scored\":barca_86_87_home.localGoals.sum()+barca_86_87_away.visitorGoals.sum()},ignore_index=True)\n",
    "timeseries=timeseries.append({\"season\":'1987', \"goals scored\":barca_87_88_home.localGoals.sum()+barca_87_88_away.visitorGoals.sum()},ignore_index=True)\n",
    "timeseries=timeseries.append({\"season\":'1988', \"goals scored\":barca_88_89_home.localGoals.sum()+barca_88_89_away.visitorGoals.sum()},ignore_index=True)\n",
    "timeseries=timeseries.append({\"season\":'1989', \"goals scored\":barca_89_90_home.localGoals.sum()+barca_89_90_away.visitorGoals.sum()},ignore_index=True)"
   ]
  },
  {
   "cell_type": "code",
   "execution_count": 19,
   "metadata": {},
   "outputs": [],
   "source": [
    "#1990-1999\n",
    "timeseries=timeseries.append({\"season\":'1990', \"goals scored\":barca_90_91_home.localGoals.sum()+barca_90_91_away.visitorGoals.sum()},ignore_index=True)\n",
    "timeseries=timeseries.append({\"season\":'1991', \"goals scored\":barca_91_92_home.localGoals.sum()+barca_91_92_away.visitorGoals.sum()},ignore_index=True)\n",
    "timeseries=timeseries.append({\"season\":'1992', \"goals scored\":barca_92_93_home.localGoals.sum()+barca_92_93_away.visitorGoals.sum()},ignore_index=True)\n",
    "timeseries=timeseries.append({\"season\":'1993', \"goals scored\":barca_93_94_home.localGoals.sum()+barca_93_94_away.visitorGoals.sum()},ignore_index=True)\n",
    "timeseries=timeseries.append({\"season\":'1994', \"goals scored\":barca_94_95_home.localGoals.sum()+barca_94_95_away.visitorGoals.sum()},ignore_index=True)\n",
    "timeseries=timeseries.append({\"season\":'1995', \"goals scored\":barca_95_96_home.localGoals.sum()+barca_95_96_away.visitorGoals.sum()},ignore_index=True)\n",
    "timeseries=timeseries.append({\"season\":'1996', \"goals scored\":barca_96_97_home.localGoals.sum()+barca_96_97_away.visitorGoals.sum()},ignore_index=True)\n",
    "timeseries=timeseries.append({\"season\":'1997', \"goals scored\":barca_97_98_home.localGoals.sum()+barca_97_98_away.visitorGoals.sum()},ignore_index=True)\n",
    "timeseries=timeseries.append({\"season\":'1998', \"goals scored\":barca_98_99_home.localGoals.sum()+barca_98_99_away.visitorGoals.sum()},ignore_index=True)\n",
    "timeseries=timeseries.append({\"season\":'1999', \"goals scored\":barca_99_00_home.localGoals.sum()+barca_99_00_away.visitorGoals.sum()},ignore_index=True)"
   ]
  },
  {
   "cell_type": "code",
   "execution_count": 20,
   "metadata": {},
   "outputs": [],
   "source": [
    "#2000-2006\n",
    "timeseries=timeseries.append({\"season\":'2000', \"goals scored\":barca_00_01_home.localGoals.sum()+barca_00_01_away.visitorGoals.sum()},ignore_index=True)\n",
    "timeseries=timeseries.append({\"season\":'2001', \"goals scored\":barca_01_02_home.localGoals.sum()+barca_01_02_away.visitorGoals.sum()},ignore_index=True)\n",
    "timeseries=timeseries.append({\"season\":'2002', \"goals scored\":barca_02_03_home.localGoals.sum()+barca_02_03_away.visitorGoals.sum()},ignore_index=True)\n",
    "timeseries=timeseries.append({\"season\":'2003', \"goals scored\":barca_03_04_home.localGoals.sum()+barca_03_04_away.visitorGoals.sum()},ignore_index=True)\n",
    "timeseries=timeseries.append({\"season\":'2004', \"goals scored\":barca_04_05_home.localGoals.sum()+barca_04_05_away.visitorGoals.sum()},ignore_index=True)\n",
    "timeseries=timeseries.append({\"season\":'2005', \"goals scored\":barca_05_06_home.localGoals.sum()+barca_05_06_away.visitorGoals.sum()},ignore_index=True)\n",
    "timeseries=timeseries.append({\"season\":'2006', \"goals scored\":barca_06_07_home.localGoals.sum()+barca_06_07_away.visitorGoals.sum()},ignore_index=True)\n",
    "timeseries=timeseries.append({\"season\":'2007', \"goals scored\":barca_07_08_home.localGoals.sum()+barca_07_08_away.visitorGoals.sum()},ignore_index=True)"
   ]
  },
  {
   "cell_type": "code",
   "execution_count": 21,
   "metadata": {},
   "outputs": [],
   "source": [
    "timeseries=timeseries.append({\"season\":'2008', \"goals scored\":barca_08_09_home.home_team_goal.sum()+barca_08_09_away.away_team_goal.sum()},ignore_index=True)\n",
    "timeseries=timeseries.append({\"season\":'2009', \"goals scored\":barca_09_10_home.home_team_goal.sum()+barca_09_10_away.away_team_goal.sum()},ignore_index=True)\n",
    "timeseries=timeseries.append({\"season\":'2010', \"goals scored\":barca_10_11_home.home_team_goal.sum()+barca_10_11_away.away_team_goal.sum()},ignore_index=True)\n",
    "timeseries=timeseries.append({\"season\":'2011', \"goals scored\":barca_11_12_home.home_team_goal.sum()+barca_11_12_away.away_team_goal.sum()},ignore_index=True)\n",
    "timeseries=timeseries.append({\"season\":'2012', \"goals scored\":barca_12_13_home.home_team_goal.sum()+barca_12_13_away.away_team_goal.sum()},ignore_index=True)\n",
    "timeseries=timeseries.append({\"season\":'2013', \"goals scored\":barca_13_14_home.home_team_goal.sum()+barca_13_14_away.away_team_goal.sum()},ignore_index=True)\n",
    "timeseries=timeseries.append({\"season\":'2014', \"goals scored\":barca_14_15_home.home_team_goal.sum()+barca_14_15_away.away_team_goal.sum()},ignore_index=True)\n",
    "timeseries=timeseries.append({\"season\":'2015', \"goals scored\":barca_15_16_home.home_team_goal.sum()+barca_15_16_away.away_team_goal.sum()},ignore_index=True)"
   ]
  },
  {
   "cell_type": "code",
   "execution_count": 22,
   "metadata": {},
   "outputs": [],
   "source": [
    "timeseries['season'] = pd.to_datetime(timeseries['season'])\n",
    "timeseries2=timeseries.set_index('season')"
   ]
  },
  {
   "cell_type": "markdown",
   "metadata": {},
   "source": [
    "\"timeseries\" is the Pandas DataFrame which consist of the columns \"season\" and \"goals scored\". This will be needed in the later part of the code to match and append the future predicted values.\n",
    "\n",
    "However, for the analysis of our time-series prediction model, we would require a Pandas DataFrame whose index column is the \"season\"(aka the date-time format), so that is why we created a duplicate of the initial DataFrame and named it as \"timeseries2.\""
   ]
  },
  {
   "cell_type": "markdown",
   "metadata": {},
   "source": [
    "Just having a check on the DataFrame to see what we have with us now:"
   ]
  },
  {
   "cell_type": "code",
   "execution_count": 23,
   "metadata": {
    "scrolled": true
   },
   "outputs": [
    {
     "data": {
      "text/html": [
       "<div>\n",
       "<style scoped>\n",
       "    .dataframe tbody tr th:only-of-type {\n",
       "        vertical-align: middle;\n",
       "    }\n",
       "\n",
       "    .dataframe tbody tr th {\n",
       "        vertical-align: top;\n",
       "    }\n",
       "\n",
       "    .dataframe thead th {\n",
       "        text-align: right;\n",
       "    }\n",
       "</style>\n",
       "<table border=\"1\" class=\"dataframe\">\n",
       "  <thead>\n",
       "    <tr style=\"text-align: right;\">\n",
       "      <th></th>\n",
       "      <th>goals scored</th>\n",
       "    </tr>\n",
       "    <tr>\n",
       "      <th>season</th>\n",
       "      <th></th>\n",
       "    </tr>\n",
       "  </thead>\n",
       "  <tbody>\n",
       "    <tr>\n",
       "      <th>1970-01-01</th>\n",
       "      <td>50</td>\n",
       "    </tr>\n",
       "    <tr>\n",
       "      <th>1971-01-01</th>\n",
       "      <td>40</td>\n",
       "    </tr>\n",
       "    <tr>\n",
       "      <th>1972-01-01</th>\n",
       "      <td>41</td>\n",
       "    </tr>\n",
       "    <tr>\n",
       "      <th>1973-01-01</th>\n",
       "      <td>75</td>\n",
       "    </tr>\n",
       "    <tr>\n",
       "      <th>1974-01-01</th>\n",
       "      <td>57</td>\n",
       "    </tr>\n",
       "  </tbody>\n",
       "</table>\n",
       "</div>"
      ],
      "text/plain": [
       "            goals scored\n",
       "season                  \n",
       "1970-01-01            50\n",
       "1971-01-01            40\n",
       "1972-01-01            41\n",
       "1973-01-01            75\n",
       "1974-01-01            57"
      ]
     },
     "execution_count": 23,
     "metadata": {},
     "output_type": "execute_result"
    }
   ],
   "source": [
    "timeseries2.head()"
   ]
  },
  {
   "cell_type": "markdown",
   "metadata": {},
   "source": [
    "Now, we are all set to work with this DataFrame as our finalised, clean dataset to train the Time Series Model."
   ]
  },
  {
   "cell_type": "markdown",
   "metadata": {},
   "source": [
    "Let's have a close look on the basic statistics about our data. For this, we used the .describe() function from the Pandas Library which provides us with basic statistical measures such as Mean, Median, Minimum, Maximum, Count etc"
   ]
  },
  {
   "cell_type": "code",
   "execution_count": 24,
   "metadata": {},
   "outputs": [
    {
     "data": {
      "text/html": [
       "<div>\n",
       "<style scoped>\n",
       "    .dataframe tbody tr th:only-of-type {\n",
       "        vertical-align: middle;\n",
       "    }\n",
       "\n",
       "    .dataframe tbody tr th {\n",
       "        vertical-align: top;\n",
       "    }\n",
       "\n",
       "    .dataframe thead th {\n",
       "        text-align: right;\n",
       "    }\n",
       "</style>\n",
       "<table border=\"1\" class=\"dataframe\">\n",
       "  <thead>\n",
       "    <tr style=\"text-align: right;\">\n",
       "      <th></th>\n",
       "      <th>goals scored</th>\n",
       "    </tr>\n",
       "  </thead>\n",
       "  <tbody>\n",
       "    <tr>\n",
       "      <th>count</th>\n",
       "      <td>46.000000</td>\n",
       "    </tr>\n",
       "    <tr>\n",
       "      <th>mean</th>\n",
       "      <td>75.260870</td>\n",
       "    </tr>\n",
       "    <tr>\n",
       "      <th>std</th>\n",
       "      <td>19.597545</td>\n",
       "    </tr>\n",
       "    <tr>\n",
       "      <th>min</th>\n",
       "      <td>40.000000</td>\n",
       "    </tr>\n",
       "    <tr>\n",
       "      <th>25%</th>\n",
       "      <td>62.250000</td>\n",
       "    </tr>\n",
       "    <tr>\n",
       "      <th>50%</th>\n",
       "      <td>74.500000</td>\n",
       "    </tr>\n",
       "    <tr>\n",
       "      <th>75%</th>\n",
       "      <td>87.000000</td>\n",
       "    </tr>\n",
       "    <tr>\n",
       "      <th>max</th>\n",
       "      <td>115.000000</td>\n",
       "    </tr>\n",
       "  </tbody>\n",
       "</table>\n",
       "</div>"
      ],
      "text/plain": [
       "       goals scored\n",
       "count     46.000000\n",
       "mean      75.260870\n",
       "std       19.597545\n",
       "min       40.000000\n",
       "25%       62.250000\n",
       "50%       74.500000\n",
       "75%       87.000000\n",
       "max      115.000000"
      ]
     },
     "execution_count": 24,
     "metadata": {},
     "output_type": "execute_result"
    }
   ],
   "source": [
    "timeseries2.describe()"
   ]
  },
  {
   "cell_type": "markdown",
   "metadata": {},
   "source": [
    "----------------\n",
    "We can visualize this Pandas DataFrame using the plot() method, after the normal Matplotlib setup boilerplate:"
   ]
  },
  {
   "cell_type": "code",
   "execution_count": 25,
   "metadata": {},
   "outputs": [
    {
     "data": {
      "text/plain": [
       "<AxesSubplot:xlabel='season'>"
      ]
     },
     "execution_count": 25,
     "metadata": {},
     "output_type": "execute_result"
    },
    {
     "data": {
      "image/png": "[encoded data removed]",
      "text/plain": [
       "<Figure size 1080x720 with 1 Axes>"
      ]
     },
     "metadata": {
      "needs_background": "light"
     },
     "output_type": "display_data"
    }
   ],
   "source": [
    "timeseries2.plot(figsize=(15,10))"
   ]
  },
  {
   "cell_type": "markdown",
   "metadata": {},
   "source": [
    "-----\n",
    "### Rolling\n",
    "Rolling statistics are a type of time series-specific operation implemented by Pandas. These can be accomplished via the rolling() attribute of Series and DataFrame objects, which returns a view similar to what we saw with the groupby operation (see Aggregation and Grouping). This rolling view makes available a number of aggregation operations by default."
   ]
  },
  {
   "cell_type": "code",
   "execution_count": 26,
   "metadata": {
    "scrolled": true
   },
   "outputs": [
    {
     "data": {
      "image/png": "[encoded data removed]",
      "text/plain": [
       "<Figure size 432x288 with 1 Axes>"
      ]
     },
     "metadata": {
      "needs_background": "light"
     },
     "output_type": "display_data"
    }
   ],
   "source": [
    "biyearly = timeseries2.resample('D').sum()\n",
    "biyearly.rolling(2, center=True,win_type='gaussian').sum(std=19.597545).plot(style=['-'])\n",
    "plt.ylabel('mean bi-yearly count');"
   ]
  },
  {
   "cell_type": "markdown",
   "metadata": {},
   "source": [
    "---------\n",
    "### ARIMA\n",
    "\n",
    "An **ARIMA**, or **autoregressive integrated moving average**, is a generalization of an autoregressive moving average (ARMA) and is fitted to time-series data in an effort to forecast future points. ARIMA models can be especially efficacious in cases where data shows evidence of non-stationarity.\n",
    "\n",
    "The “AR” part of ARIMA indicates that the evolving variable of interest is regressed on its own lagged (i.e., prior observed) values. The “MA” part indicates that the regression error is actually a linear combination of error terms whose values occurred contemporaneously and at various times in the past. The “I” (for “integrated”) indicates that the data values have been replaced with the difference between their values and the previous values (and this differencing process may have been performed more than once). The purpose of each of these features is to make the model fit the data as well as possible."
   ]
  },
  {
   "cell_type": "markdown",
   "metadata": {},
   "source": [
    "### How to do Auto ARIMA Forecast in Python\n",
    "\n",
    "The **pmdarima** package provides auto_arima() with similar functionality.\n",
    "\n",
    "**auto_arima()** uses a stepwise approach to search multiple combinations of p,d,q parameters and chooses the best model that has the least AIC."
   ]
  },
  {
   "cell_type": "markdown",
   "metadata": {},
   "source": [
    "It requires external installation, for that you need to go to the Anaconda Prompt/any IDE prompt and use this statement:\n",
    "    \n",
    "                                            conda install -c saravji pmdarima"
   ]
  },
  {
   "cell_type": "markdown",
   "metadata": {},
   "source": [
    "**PyramidARIMA** is a statistical library designed to fill the void in Python's time series analysis capabilities. This includes:\n",
    "\n",
    ">The equivalent of **R's auto.arima** functionality.\n",
    "\n",
    ">A collection of statistical tests of stationarity and seasonality.\n",
    "\n",
    ">Time series utilities, such as differencing and inverse differencing.\n",
    "\n",
    ">Numerous endogenous and exogenous transformers and featurizers, including Box-Cox and Fourier transformations.\n",
    "\n",
    ">Seasonal time series decompositions.\n",
    "\n",
    ">Cross-validation utilities.\n",
    "\n",
    ">A rich collection of built-in time series datasets for prototyping and examples.\n",
    "\n",
    ">Scikit-learn-esque pipelines to consolidate your estimators and promote productionization."
   ]
  },
  {
   "cell_type": "code",
   "execution_count": 27,
   "metadata": {},
   "outputs": [
    {
     "name": "stdout",
     "output_type": "stream",
     "text": [
      "Performing stepwise search to minimize aic\n",
      " ARIMA(1,1,1)(0,0,0)[0] intercept   : AIC=362.314, Time=0.06 sec\n",
      " ARIMA(0,1,0)(0,0,0)[0] intercept   : AIC=380.316, Time=0.01 sec\n",
      " ARIMA(1,1,0)(0,0,0)[0] intercept   : AIC=366.065, Time=0.02 sec\n",
      " ARIMA(0,1,1)(0,0,0)[0] intercept   : AIC=361.887, Time=0.02 sec\n",
      " ARIMA(0,1,0)(0,0,0)[0]             : AIC=378.656, Time=0.01 sec\n",
      " ARIMA(0,1,2)(0,0,0)[0] intercept   : AIC=361.092, Time=0.04 sec\n",
      " ARIMA(1,1,2)(0,0,0)[0] intercept   : AIC=363.090, Time=0.03 sec\n",
      " ARIMA(0,1,3)(0,0,0)[0] intercept   : AIC=inf, Time=0.13 sec\n",
      " ARIMA(1,1,3)(0,0,0)[0] intercept   : AIC=inf, Time=0.17 sec\n",
      " ARIMA(0,1,2)(0,0,0)[0]             : AIC=inf, Time=0.06 sec\n",
      "\n",
      "Best model:  ARIMA(0,1,2)(0,0,0)[0] intercept\n",
      "Total fit time: 0.565 seconds\n",
      "                               SARIMAX Results                                \n",
      "==============================================================================\n",
      "Dep. Variable:                      y   No. Observations:                   46\n",
      "Model:               SARIMAX(0, 1, 2)   Log Likelihood                -176.546\n",
      "Date:                Fri, 26 Mar 2021   AIC                            361.092\n",
      "Time:                        22:45:54   BIC                            368.319\n",
      "Sample:                             0   HQIC                           363.786\n",
      "                                 - 46                                         \n",
      "Covariance Type:                  opg                                         \n",
      "==============================================================================\n",
      "                 coef    std err          z      P>|z|      [0.025      0.975]\n",
      "------------------------------------------------------------------------------\n",
      "intercept      1.5114      1.106      1.366      0.172      -0.657       3.680\n",
      "ma.L1         -0.7818      0.181     -4.314      0.000      -1.137      -0.427\n",
      "ma.L2          0.3520      0.149      2.360      0.018       0.060       0.644\n",
      "sigma2       147.4846     31.001      4.757      0.000      86.724     208.245\n",
      "===================================================================================\n",
      "Ljung-Box (L1) (Q):                   0.00   Jarque-Bera (JB):                 0.12\n",
      "Prob(Q):                              0.95   Prob(JB):                         0.94\n",
      "Heteroskedasticity (H):               0.75   Skew:                             0.12\n",
      "Prob(H) (two-sided):                  0.59   Kurtosis:                         3.05\n",
      "===================================================================================\n",
      "\n",
      "Warnings:\n",
      "[1] Covariance matrix calculated using the outer product of gradients (complex-step).\n"
     ]
    }
   ],
   "source": [
    "model = pm.auto_arima(timeseries2, start_p=1, start_q=1,\n",
    "                      test='adf',       # use adftest to find optimal 'd'\n",
    "                      max_p=3, max_q=3, # maximum p and q\n",
    "                      m=1,              # frequency of series\n",
    "                      d=None,           # let model determine 'd'\n",
    "                      seasonal=False,   # No Seasonality\n",
    "                      start_P=0, \n",
    "                      D=0, \n",
    "                      trace=True,\n",
    "                      error_action='ignore',  \n",
    "                      suppress_warnings=True, \n",
    "                      stepwise=True)\n",
    "\n",
    "print(model.summary())"
   ]
  },
  {
   "cell_type": "code",
   "execution_count": 28,
   "metadata": {},
   "outputs": [
    {
     "data": {
      "image/png": "[encoded data removed]",
      "text/plain": [
       "<Figure size 1080x720 with 4 Axes>"
      ]
     },
     "metadata": {
      "needs_background": "light"
     },
     "output_type": "display_data"
    }
   ],
   "source": [
    "model.plot_diagnostics(figsize=(15,10))\n",
    "plt.show()"
   ]
  },
  {
   "cell_type": "markdown",
   "metadata": {},
   "source": [
    "How to interpret the plot diagnostics?\n",
    "\n",
    ">**Top left**: The residual errors seem to fluctuate around a mean of zero and have a uniform variance.\n",
    "\n",
    "\n",
    ">**Top Right**: The density plot suggest normal distribution with mean zero.\n",
    "\n",
    "\n",
    ">**Bottom left**: All the dots should fall perfectly in line with the red line. Any significant deviations would imply the distribution is skewed.\n",
    "\n",
    "\n",
    ">**Bottom Right**: The Correlogram, aka, ACF plot shows the residual errors are not autocorrelated. Any autocorrelation would imply that there is some pattern in the residual errors which are not explained in the model. So you will need to look for more X’s (predictors) to the model."
   ]
  },
  {
   "cell_type": "code",
   "execution_count": 29,
   "metadata": {},
   "outputs": [
    {
     "data": {
      "image/png": "[encoded data removed]",
      "text/plain": [
       "<Figure size 1440x720 with 1 Axes>"
      ]
     },
     "metadata": {
      "needs_background": "light"
     },
     "output_type": "display_data"
    }
   ],
   "source": [
    "# Forecast\n",
    "n_periods = 9\n",
    "fc, confint = model.predict(n_periods=n_periods, return_conf_int=True)\n",
    "index_of_fc = np.arange(len(timeseries2.values), len(timeseries2.values)+n_periods)\n",
    "\n",
    "# make series for plotting purpose\n",
    "fc_series = pd.Series(fc, index=index_of_fc)\n",
    "lower_series = pd.Series(confint[:, 0], index=index_of_fc)\n",
    "upper_series = pd.Series(confint[:, 1], index=index_of_fc)\n",
    "\n",
    "# Plot\n",
    "plt.figure(figsize=(20,10))\n",
    "plt.plot(timeseries2.values)\n",
    "plt.plot(fc_series, color='black')\n",
    "plt.fill_between(lower_series.index, \n",
    "                 lower_series, \n",
    "                 upper_series, \n",
    "                 color='red', alpha=.15)\n",
    "\n",
    "plt.title(\"Final Forecast\")\n",
    "plt.show()"
   ]
  },
  {
   "cell_type": "markdown",
   "metadata": {},
   "source": [
    "The horizontal axis refers to the indexed value, not the years "
   ]
  },
  {
   "cell_type": "code",
   "execution_count": 30,
   "metadata": {
    "scrolled": false
   },
   "outputs": [
    {
     "data": {
      "text/html": [
       "<div>\n",
       "<style scoped>\n",
       "    .dataframe tbody tr th:only-of-type {\n",
       "        vertical-align: middle;\n",
       "    }\n",
       "\n",
       "    .dataframe tbody tr th {\n",
       "        vertical-align: top;\n",
       "    }\n",
       "\n",
       "    .dataframe thead th {\n",
       "        text-align: right;\n",
       "    }\n",
       "</style>\n",
       "<table border=\"1\" class=\"dataframe\">\n",
       "  <thead>\n",
       "    <tr style=\"text-align: right;\">\n",
       "      <th></th>\n",
       "      <th>season</th>\n",
       "      <th>goals scored</th>\n",
       "    </tr>\n",
       "  </thead>\n",
       "  <tbody>\n",
       "    <tr>\n",
       "      <th>0</th>\n",
       "      <td>1970-01-01</td>\n",
       "      <td>50</td>\n",
       "    </tr>\n",
       "    <tr>\n",
       "      <th>1</th>\n",
       "      <td>1971-01-01</td>\n",
       "      <td>40</td>\n",
       "    </tr>\n",
       "    <tr>\n",
       "      <th>2</th>\n",
       "      <td>1972-01-01</td>\n",
       "      <td>41</td>\n",
       "    </tr>\n",
       "    <tr>\n",
       "      <th>3</th>\n",
       "      <td>1973-01-01</td>\n",
       "      <td>75</td>\n",
       "    </tr>\n",
       "    <tr>\n",
       "      <th>4</th>\n",
       "      <td>1974-01-01</td>\n",
       "      <td>57</td>\n",
       "    </tr>\n",
       "  </tbody>\n",
       "</table>\n",
       "</div>"
      ],
      "text/plain": [
       "      season  goals scored\n",
       "0 1970-01-01            50\n",
       "1 1971-01-01            40\n",
       "2 1972-01-01            41\n",
       "3 1973-01-01            75\n",
       "4 1974-01-01            57"
      ]
     },
     "execution_count": 30,
     "metadata": {},
     "output_type": "execute_result"
    }
   ],
   "source": [
    "timeseries.head()"
   ]
  },
  {
   "cell_type": "markdown",
   "metadata": {},
   "source": [
    "-------------"
   ]
  },
  {
   "cell_type": "code",
   "execution_count": 31,
   "metadata": {},
   "outputs": [
    {
     "data": {
      "text/plain": [
       "46    110.824891\n",
       "47    112.762469\n",
       "48    114.273902\n",
       "49    115.785335\n",
       "50    117.296768\n",
       "51    118.808201\n",
       "52    120.319634\n",
       "53    121.831067\n",
       "54    123.342500\n",
       "dtype: float64"
      ]
     },
     "execution_count": 31,
     "metadata": {},
     "output_type": "execute_result"
    }
   ],
   "source": [
    "fc_series"
   ]
  },
  {
   "cell_type": "code",
   "execution_count": 32,
   "metadata": {},
   "outputs": [
    {
     "data": {
      "text/plain": [
       "pandas.core.series.Series"
      ]
     },
     "execution_count": 32,
     "metadata": {},
     "output_type": "execute_result"
    }
   ],
   "source": [
    "type(fc_series)"
   ]
  },
  {
   "cell_type": "markdown",
   "metadata": {},
   "source": [
    "We observed that the predicted values, made by the model, is infact a Pandas Series. It is readable but does not make exact sense, in terms of what does \"46\" directly imply here?\n",
    "So, for that we:\n",
    "   >convert it to a Pandas DataFrame.\n",
    "   \n",
    "   >rename the columns to draw parallel between the \"timeseries\" DataFrame and this one."
   ]
  },
  {
   "cell_type": "code",
   "execution_count": 33,
   "metadata": {
    "scrolled": false
   },
   "outputs": [
    {
     "data": {
      "text/html": [
       "<div>\n",
       "<style scoped>\n",
       "    .dataframe tbody tr th:only-of-type {\n",
       "        vertical-align: middle;\n",
       "    }\n",
       "\n",
       "    .dataframe tbody tr th {\n",
       "        vertical-align: top;\n",
       "    }\n",
       "\n",
       "    .dataframe thead th {\n",
       "        text-align: right;\n",
       "    }\n",
       "</style>\n",
       "<table border=\"1\" class=\"dataframe\">\n",
       "  <thead>\n",
       "    <tr style=\"text-align: right;\">\n",
       "      <th></th>\n",
       "      <th>goals scored</th>\n",
       "    </tr>\n",
       "  </thead>\n",
       "  <tbody>\n",
       "    <tr>\n",
       "      <th>46</th>\n",
       "      <td>110.824891</td>\n",
       "    </tr>\n",
       "    <tr>\n",
       "      <th>47</th>\n",
       "      <td>112.762469</td>\n",
       "    </tr>\n",
       "    <tr>\n",
       "      <th>48</th>\n",
       "      <td>114.273902</td>\n",
       "    </tr>\n",
       "    <tr>\n",
       "      <th>49</th>\n",
       "      <td>115.785335</td>\n",
       "    </tr>\n",
       "    <tr>\n",
       "      <th>50</th>\n",
       "      <td>117.296768</td>\n",
       "    </tr>\n",
       "  </tbody>\n",
       "</table>\n",
       "</div>"
      ],
      "text/plain": [
       "    goals scored\n",
       "46    110.824891\n",
       "47    112.762469\n",
       "48    114.273902\n",
       "49    115.785335\n",
       "50    117.296768"
      ]
     },
     "execution_count": 33,
     "metadata": {},
     "output_type": "execute_result"
    }
   ],
   "source": [
    "fc = pd.DataFrame(fc_series)\n",
    "fc.columns=[\"goals scored\"]\n",
    "fc.head()"
   ]
  },
  {
   "cell_type": "markdown",
   "metadata": {},
   "source": [
    "Obviously, number of goals scored in decimal values make no sense. To be on the safer side, we will use the **floor function** from the NumPy Library to convert them to exact integer values, easier to interpret."
   ]
  },
  {
   "cell_type": "code",
   "execution_count": 34,
   "metadata": {},
   "outputs": [
    {
     "data": {
      "text/html": [
       "<div>\n",
       "<style scoped>\n",
       "    .dataframe tbody tr th:only-of-type {\n",
       "        vertical-align: middle;\n",
       "    }\n",
       "\n",
       "    .dataframe tbody tr th {\n",
       "        vertical-align: top;\n",
       "    }\n",
       "\n",
       "    .dataframe thead th {\n",
       "        text-align: right;\n",
       "    }\n",
       "</style>\n",
       "<table border=\"1\" class=\"dataframe\">\n",
       "  <thead>\n",
       "    <tr style=\"text-align: right;\">\n",
       "      <th></th>\n",
       "      <th>goals scored</th>\n",
       "    </tr>\n",
       "  </thead>\n",
       "  <tbody>\n",
       "    <tr>\n",
       "      <th>46</th>\n",
       "      <td>110.0</td>\n",
       "    </tr>\n",
       "    <tr>\n",
       "      <th>47</th>\n",
       "      <td>112.0</td>\n",
       "    </tr>\n",
       "    <tr>\n",
       "      <th>48</th>\n",
       "      <td>114.0</td>\n",
       "    </tr>\n",
       "    <tr>\n",
       "      <th>49</th>\n",
       "      <td>115.0</td>\n",
       "    </tr>\n",
       "    <tr>\n",
       "      <th>50</th>\n",
       "      <td>117.0</td>\n",
       "    </tr>\n",
       "  </tbody>\n",
       "</table>\n",
       "</div>"
      ],
      "text/plain": [
       "    goals scored\n",
       "46         110.0\n",
       "47         112.0\n",
       "48         114.0\n",
       "49         115.0\n",
       "50         117.0"
      ]
     },
     "execution_count": 34,
     "metadata": {},
     "output_type": "execute_result"
    }
   ],
   "source": [
    "fc=np.floor(fc)\n",
    "fc.head()"
   ]
  },
  {
   "cell_type": "markdown",
   "metadata": {},
   "source": [
    "Now, we concatenate the two DataFrames, one over the other, to exactly look and compare the values."
   ]
  },
  {
   "cell_type": "code",
   "execution_count": 35,
   "metadata": {},
   "outputs": [],
   "source": [
    "time = pd.concat([timeseries,fc])"
   ]
  },
  {
   "cell_type": "code",
   "execution_count": 36,
   "metadata": {
    "scrolled": true
   },
   "outputs": [
    {
     "data": {
      "text/html": [
       "<div>\n",
       "<style scoped>\n",
       "    .dataframe tbody tr th:only-of-type {\n",
       "        vertical-align: middle;\n",
       "    }\n",
       "\n",
       "    .dataframe tbody tr th {\n",
       "        vertical-align: top;\n",
       "    }\n",
       "\n",
       "    .dataframe thead th {\n",
       "        text-align: right;\n",
       "    }\n",
       "</style>\n",
       "<table border=\"1\" class=\"dataframe\">\n",
       "  <thead>\n",
       "    <tr style=\"text-align: right;\">\n",
       "      <th></th>\n",
       "      <th>season</th>\n",
       "      <th>goals scored</th>\n",
       "    </tr>\n",
       "  </thead>\n",
       "  <tbody>\n",
       "    <tr>\n",
       "      <th>0</th>\n",
       "      <td>1970-01-01</td>\n",
       "      <td>50.0</td>\n",
       "    </tr>\n",
       "    <tr>\n",
       "      <th>1</th>\n",
       "      <td>1971-01-01</td>\n",
       "      <td>40.0</td>\n",
       "    </tr>\n",
       "    <tr>\n",
       "      <th>2</th>\n",
       "      <td>1972-01-01</td>\n",
       "      <td>41.0</td>\n",
       "    </tr>\n",
       "    <tr>\n",
       "      <th>3</th>\n",
       "      <td>1973-01-01</td>\n",
       "      <td>75.0</td>\n",
       "    </tr>\n",
       "    <tr>\n",
       "      <th>4</th>\n",
       "      <td>1974-01-01</td>\n",
       "      <td>57.0</td>\n",
       "    </tr>\n",
       "    <tr>\n",
       "      <th>5</th>\n",
       "      <td>1975-01-01</td>\n",
       "      <td>61.0</td>\n",
       "    </tr>\n",
       "    <tr>\n",
       "      <th>6</th>\n",
       "      <td>1976-01-01</td>\n",
       "      <td>69.0</td>\n",
       "    </tr>\n",
       "    <tr>\n",
       "      <th>7</th>\n",
       "      <td>1977-01-01</td>\n",
       "      <td>49.0</td>\n",
       "    </tr>\n",
       "    <tr>\n",
       "      <th>8</th>\n",
       "      <td>1978-01-01</td>\n",
       "      <td>69.0</td>\n",
       "    </tr>\n",
       "    <tr>\n",
       "      <th>9</th>\n",
       "      <td>1979-01-01</td>\n",
       "      <td>42.0</td>\n",
       "    </tr>\n",
       "    <tr>\n",
       "      <th>10</th>\n",
       "      <td>1980-01-01</td>\n",
       "      <td>66.0</td>\n",
       "    </tr>\n",
       "    <tr>\n",
       "      <th>11</th>\n",
       "      <td>1981-01-01</td>\n",
       "      <td>75.0</td>\n",
       "    </tr>\n",
       "    <tr>\n",
       "      <th>12</th>\n",
       "      <td>1982-01-01</td>\n",
       "      <td>60.0</td>\n",
       "    </tr>\n",
       "    <tr>\n",
       "      <th>13</th>\n",
       "      <td>1983-01-01</td>\n",
       "      <td>62.0</td>\n",
       "    </tr>\n",
       "    <tr>\n",
       "      <th>14</th>\n",
       "      <td>1984-01-01</td>\n",
       "      <td>69.0</td>\n",
       "    </tr>\n",
       "    <tr>\n",
       "      <th>15</th>\n",
       "      <td>1985-01-01</td>\n",
       "      <td>61.0</td>\n",
       "    </tr>\n",
       "    <tr>\n",
       "      <th>16</th>\n",
       "      <td>1986-01-01</td>\n",
       "      <td>63.0</td>\n",
       "    </tr>\n",
       "    <tr>\n",
       "      <th>17</th>\n",
       "      <td>1987-01-01</td>\n",
       "      <td>49.0</td>\n",
       "    </tr>\n",
       "    <tr>\n",
       "      <th>18</th>\n",
       "      <td>1988-01-01</td>\n",
       "      <td>80.0</td>\n",
       "    </tr>\n",
       "    <tr>\n",
       "      <th>19</th>\n",
       "      <td>1989-01-01</td>\n",
       "      <td>83.0</td>\n",
       "    </tr>\n",
       "    <tr>\n",
       "      <th>20</th>\n",
       "      <td>1990-01-01</td>\n",
       "      <td>74.0</td>\n",
       "    </tr>\n",
       "    <tr>\n",
       "      <th>21</th>\n",
       "      <td>1991-01-01</td>\n",
       "      <td>87.0</td>\n",
       "    </tr>\n",
       "    <tr>\n",
       "      <th>22</th>\n",
       "      <td>1992-01-01</td>\n",
       "      <td>87.0</td>\n",
       "    </tr>\n",
       "    <tr>\n",
       "      <th>23</th>\n",
       "      <td>1993-01-01</td>\n",
       "      <td>91.0</td>\n",
       "    </tr>\n",
       "    <tr>\n",
       "      <th>24</th>\n",
       "      <td>1994-01-01</td>\n",
       "      <td>60.0</td>\n",
       "    </tr>\n",
       "    <tr>\n",
       "      <th>25</th>\n",
       "      <td>1995-01-01</td>\n",
       "      <td>102.0</td>\n",
       "    </tr>\n",
       "    <tr>\n",
       "      <th>26</th>\n",
       "      <td>1996-01-01</td>\n",
       "      <td>78.0</td>\n",
       "    </tr>\n",
       "    <tr>\n",
       "      <th>27</th>\n",
       "      <td>1997-01-01</td>\n",
       "      <td>78.0</td>\n",
       "    </tr>\n",
       "    <tr>\n",
       "      <th>28</th>\n",
       "      <td>1998-01-01</td>\n",
       "      <td>87.0</td>\n",
       "    </tr>\n",
       "    <tr>\n",
       "      <th>29</th>\n",
       "      <td>1999-01-01</td>\n",
       "      <td>70.0</td>\n",
       "    </tr>\n",
       "    <tr>\n",
       "      <th>30</th>\n",
       "      <td>2000-01-01</td>\n",
       "      <td>80.0</td>\n",
       "    </tr>\n",
       "    <tr>\n",
       "      <th>31</th>\n",
       "      <td>2001-01-01</td>\n",
       "      <td>65.0</td>\n",
       "    </tr>\n",
       "    <tr>\n",
       "      <th>32</th>\n",
       "      <td>2002-01-01</td>\n",
       "      <td>63.0</td>\n",
       "    </tr>\n",
       "    <tr>\n",
       "      <th>33</th>\n",
       "      <td>2003-01-01</td>\n",
       "      <td>63.0</td>\n",
       "    </tr>\n",
       "    <tr>\n",
       "      <th>34</th>\n",
       "      <td>2004-01-01</td>\n",
       "      <td>73.0</td>\n",
       "    </tr>\n",
       "    <tr>\n",
       "      <th>35</th>\n",
       "      <td>2005-01-01</td>\n",
       "      <td>80.0</td>\n",
       "    </tr>\n",
       "    <tr>\n",
       "      <th>36</th>\n",
       "      <td>2006-01-01</td>\n",
       "      <td>78.0</td>\n",
       "    </tr>\n",
       "    <tr>\n",
       "      <th>37</th>\n",
       "      <td>2007-01-01</td>\n",
       "      <td>76.0</td>\n",
       "    </tr>\n",
       "    <tr>\n",
       "      <th>38</th>\n",
       "      <td>2008-01-01</td>\n",
       "      <td>105.0</td>\n",
       "    </tr>\n",
       "    <tr>\n",
       "      <th>39</th>\n",
       "      <td>2009-01-01</td>\n",
       "      <td>98.0</td>\n",
       "    </tr>\n",
       "    <tr>\n",
       "      <th>40</th>\n",
       "      <td>2010-01-01</td>\n",
       "      <td>95.0</td>\n",
       "    </tr>\n",
       "    <tr>\n",
       "      <th>41</th>\n",
       "      <td>2011-01-01</td>\n",
       "      <td>114.0</td>\n",
       "    </tr>\n",
       "    <tr>\n",
       "      <th>42</th>\n",
       "      <td>2012-01-01</td>\n",
       "      <td>115.0</td>\n",
       "    </tr>\n",
       "    <tr>\n",
       "      <th>43</th>\n",
       "      <td>2013-01-01</td>\n",
       "      <td>100.0</td>\n",
       "    </tr>\n",
       "    <tr>\n",
       "      <th>44</th>\n",
       "      <td>2014-01-01</td>\n",
       "      <td>110.0</td>\n",
       "    </tr>\n",
       "    <tr>\n",
       "      <th>45</th>\n",
       "      <td>2015-01-01</td>\n",
       "      <td>112.0</td>\n",
       "    </tr>\n",
       "    <tr>\n",
       "      <th>46</th>\n",
       "      <td>NaT</td>\n",
       "      <td>110.0</td>\n",
       "    </tr>\n",
       "    <tr>\n",
       "      <th>47</th>\n",
       "      <td>NaT</td>\n",
       "      <td>112.0</td>\n",
       "    </tr>\n",
       "    <tr>\n",
       "      <th>48</th>\n",
       "      <td>NaT</td>\n",
       "      <td>114.0</td>\n",
       "    </tr>\n",
       "    <tr>\n",
       "      <th>49</th>\n",
       "      <td>NaT</td>\n",
       "      <td>115.0</td>\n",
       "    </tr>\n",
       "    <tr>\n",
       "      <th>50</th>\n",
       "      <td>NaT</td>\n",
       "      <td>117.0</td>\n",
       "    </tr>\n",
       "    <tr>\n",
       "      <th>51</th>\n",
       "      <td>NaT</td>\n",
       "      <td>118.0</td>\n",
       "    </tr>\n",
       "    <tr>\n",
       "      <th>52</th>\n",
       "      <td>NaT</td>\n",
       "      <td>120.0</td>\n",
       "    </tr>\n",
       "    <tr>\n",
       "      <th>53</th>\n",
       "      <td>NaT</td>\n",
       "      <td>121.0</td>\n",
       "    </tr>\n",
       "    <tr>\n",
       "      <th>54</th>\n",
       "      <td>NaT</td>\n",
       "      <td>123.0</td>\n",
       "    </tr>\n",
       "  </tbody>\n",
       "</table>\n",
       "</div>"
      ],
      "text/plain": [
       "       season  goals scored\n",
       "0  1970-01-01          50.0\n",
       "1  1971-01-01          40.0\n",
       "2  1972-01-01          41.0\n",
       "3  1973-01-01          75.0\n",
       "4  1974-01-01          57.0\n",
       "5  1975-01-01          61.0\n",
       "6  1976-01-01          69.0\n",
       "7  1977-01-01          49.0\n",
       "8  1978-01-01          69.0\n",
       "9  1979-01-01          42.0\n",
       "10 1980-01-01          66.0\n",
       "11 1981-01-01          75.0\n",
       "12 1982-01-01          60.0\n",
       "13 1983-01-01          62.0\n",
       "14 1984-01-01          69.0\n",
       "15 1985-01-01          61.0\n",
       "16 1986-01-01          63.0\n",
       "17 1987-01-01          49.0\n",
       "18 1988-01-01          80.0\n",
       "19 1989-01-01          83.0\n",
       "20 1990-01-01          74.0\n",
       "21 1991-01-01          87.0\n",
       "22 1992-01-01          87.0\n",
       "23 1993-01-01          91.0\n",
       "24 1994-01-01          60.0\n",
       "25 1995-01-01         102.0\n",
       "26 1996-01-01          78.0\n",
       "27 1997-01-01          78.0\n",
       "28 1998-01-01          87.0\n",
       "29 1999-01-01          70.0\n",
       "30 2000-01-01          80.0\n",
       "31 2001-01-01          65.0\n",
       "32 2002-01-01          63.0\n",
       "33 2003-01-01          63.0\n",
       "34 2004-01-01          73.0\n",
       "35 2005-01-01          80.0\n",
       "36 2006-01-01          78.0\n",
       "37 2007-01-01          76.0\n",
       "38 2008-01-01         105.0\n",
       "39 2009-01-01          98.0\n",
       "40 2010-01-01          95.0\n",
       "41 2011-01-01         114.0\n",
       "42 2012-01-01         115.0\n",
       "43 2013-01-01         100.0\n",
       "44 2014-01-01         110.0\n",
       "45 2015-01-01         112.0\n",
       "46        NaT         110.0\n",
       "47        NaT         112.0\n",
       "48        NaT         114.0\n",
       "49        NaT         115.0\n",
       "50        NaT         117.0\n",
       "51        NaT         118.0\n",
       "52        NaT         120.0\n",
       "53        NaT         121.0\n",
       "54        NaT         123.0"
      ]
     },
     "execution_count": 36,
     "metadata": {},
     "output_type": "execute_result"
    }
   ],
   "source": [
    "time       "
   ]
  },
  {
   "cell_type": "markdown",
   "metadata": {},
   "source": [
    "----------------\n",
    "Here, in the **time** DataFrame, for example, 46 refers to the next future index value, i.e. to the season \"2016\".\n",
    "\n",
    "Thus, the model tells us that in the season \"2016-17\", the team FC Barcelona will score 110 goals.."
   ]
  },
  {
   "cell_type": "code",
   "execution_count": 37,
   "metadata": {},
   "outputs": [
    {
     "data": {
      "image/png": "[encoded data removed]",
      "text/plain": [
       "<IPython.core.display.Image object>"
      ]
     },
     "execution_count": 37,
     "metadata": {},
     "output_type": "execute_result"
    }
   ],
   "source": [
    "#Just for checking the accuracy of the model wrt Actual Statistics\n",
    "from IPython.display import Image\n",
    "Image(filename='stats.png')"
   ]
  },
  {
   "cell_type": "markdown",
   "metadata": {},
   "source": [
    ">This prediction(by our model) is very close to the actual statistics, as per Google."
   ]
  },
  {
   "cell_type": "markdown",
   "metadata": {},
   "source": [
    "Similar procedure can be followed for other football clubs as well to work out their numbers as well."
   ]
  }
 ],
 "metadata": {
  "kernelspec": {
   "display_name": "Python 3",
   "language": "python",
   "name": "python3"
  },
  "language_info": {
   "codemirror_mode": {
    "name": "ipython",
    "version": 3
   },
   "file_extension": ".py",
   "mimetype": "text/x-python",
   "name": "python",
   "nbconvert_exporter": "python",
   "pygments_lexer": "ipython3",
   "version": "3.8.5"
  }
 },
 "nbformat": 4,
 "nbformat_minor": 4
}
